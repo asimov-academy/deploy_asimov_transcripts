{
 "cells": [
  {
   "cell_type": "code",
   "execution_count": 2,
   "id": "15113a86",
   "metadata": {},
   "outputs": [],
   "source": [
    "import openai\n",
    "from dotenv import load_dotenv, find_dotenv\n",
    "_ = load_dotenv(find_dotenv())\n",
    "\n",
    "client = openai.OpenAI()"
   ]
  },
  {
   "cell_type": "markdown",
   "metadata": {},
   "source": []
  },
  {
   "attachments": {},
   "cell_type": "markdown",
   "id": "226a8971",
   "metadata": {},
   "source": [
    "### Transcrição de Áudio"
   ]
  },
  {
   "cell_type": "code",
   "execution_count": 3,
   "metadata": {},
   "outputs": [
    {
     "name": "stdout",
     "output_type": "stream",
     "text": [
      "Seja muito bem-vindo ou bem-vinda ao nosso curso completo de Python aqui da Zemove Academy. Eu e minha equipe ficamos muito felizes que vocês tenham escolhido iniciar no mundo da programação, especificamente com a linguagem Python, aqui com a gente. Pode ter certeza que a gente colocou muito carinho e muita dedicação para construir esse material. Além dos conhecimentos técnicos que a gente vai apresentar sobre a linguagem e programação em si, eu também coloquei grande parte da minha experiência e minha vivência para compartilhar com vocês ao longo desse treinamento. Para quem não me conhece ainda, meu nome é Rodrigo Soares Padeval e eu não sou programador de origem. Na verdade, eu me formei como engenheiro e eu utilizei a programação dentro da minha carreira no mercado financeiro como analista de dados. E essa é a grande mágica da programação. Vocês não precisam utilizá-la única e exclusivamente para desenvolver software. Na verdade, ela pode ser usada para o que vocês quiserem no dia a dia de vocês, muitas vezes como uma habilidade secundária. Ela é muito mais ampla e muito mais poderosa do que isso. Programação é, sem sombra de dúvidas, a habilidade do futuro. Tem gente que já compara e diz que a programação é o novo inglês. Ou seja, até anos atrás, era necessário que a gente tivesse inglês para poder entrar no mercado de trabalho. Hoje, com certeza, além do inglês, a gente tem que saber programar.\n",
      "\n"
     ]
    }
   ],
   "source": [
    "arquivo_audio = open('media/original.mp3', mode='rb')\n",
    "\n",
    "transcricao = client.audio.transcriptions.create(\n",
    "    model='whisper-1',\n",
    "    language='pt',\n",
    "    response_format='text',\n",
    "    file=arquivo_audio,\n",
    ")\n",
    "\n",
    "print(transcricao)"
   ]
  },
  {
   "attachments": {},
   "cell_type": "markdown",
   "id": "900370cc",
   "metadata": {},
   "source": [
    "### Adicionando prompts"
   ]
  },
  {
   "cell_type": "code",
   "execution_count": 4,
   "id": "861620d0",
   "metadata": {},
   "outputs": [
    {
     "name": "stdout",
     "output_type": "stream",
     "text": [
      "Seja muito bem-vindo ou bem-vinda ao nosso curso completo de Python aqui da Asimov Academy. Eu e minha equipe ficamos muito felizes que vocês tenham escolhido iniciar no mundo da programação, especificamente com a linguagem Python, aqui com a gente. Pode ter certeza que a gente colocou muito carinho e muita dedicação para construir esse material. Além dos conhecimentos técnicos que a gente vai apresentar sobre a linguagem e programação em si, eu também coloquei grande parte da minha experiência e minha vivência para compartilhar com vocês ao longo desse treinamento. Para quem não me conhece ainda, meu nome é Rodrigo Soares Padeval e eu não sou programador de origem. Na verdade, eu me formei como engenheiro e utilizei a programação dentro da minha carreira no mercado financeiro como analista de dados. E essa é a grande mágica da programação. Vocês não precisam utilizá-la única e exclusivamente para desenvolver software. Na verdade, ela pode ser usada para o que vocês quiserem no dia a dia de vocês, muitas vezes como uma habilidade secundária. Ela é muito mais ampla e muito mais poderosa do que isso. Programação é, sem sombra de dúvidas, a habilidade do futuro. Tem gente que já compara e diz que a programação é o novo inglês. Ou seja, até anos atrás, era necessário que a gente tivesse inglês para poder entrar no mercado de trabalho. Hoje, com certeza, além do inglês, a gente tem que saber programar.\n",
      "\n"
     ]
    }
   ],
   "source": [
    "arquivo_audio = open('media/original.mp3', mode='rb')\n",
    "prompt = 'Olá, seja bem-vindo à Asimov Academy'\n",
    "\n",
    "transcricao = client.audio.transcriptions.create(\n",
    "    model='whisper-1',\n",
    "    language='pt',\n",
    "    response_format='text',\n",
    "    file=arquivo_audio,\n",
    "    prompt=prompt,\n",
    ")\n",
    "\n",
    "print(transcricao)"
   ]
  },
  {
   "cell_type": "code",
   "execution_count": 5,
   "metadata": {},
   "outputs": [
    {
     "name": "stdout",
     "output_type": "stream",
     "text": [
      "Seja muito bem-vindo ou bem-vinda ao nosso curso completo de Python aqui da Asimov Academy. Eu e minha equipe ficamos muito felizes que vocês tenham escolhido iniciar no mundo da programação, especificamente com a linguagem Python, aqui com a gente. Pode ter certeza que a gente colocou muito carinho e muita dedicação para construir esse material. Além dos conhecimentos técnicos que a gente vai apresentar sobre a linguagem e programação em si, eu também coloquei grande parte da minha experiência e minha vivência para compartilhar com vocês ao longo desse treinamento. Para quem não me conhece ainda, meu nome é Rodrigo Soares Tadewald e eu não sou programador de origem. Na verdade, eu me formei como engenheiro e utilizei a programação dentro da minha carreira no mercado financeiro como analista de dados. E essa é a grande mágica da programação. Vocês não precisam utilizá-la única e exclusivamente para desenvolver software. Na verdade, ela pode ser usada para o que vocês quiserem no dia a dia de vocês, muitas vezes como uma habilidade secundária. Ela é muito mais ampla e muito mais poderosa do que isso. Programação é, sem sombra de dúvidas, a habilidade do futuro. Tem gente que já compara e diz que a programação é o novo inglês. Ou seja, até anos atrás, era necessário que a gente tivesse inglês para poder entrar no mercado de trabalho. Hoje, com certeza, além do inglês, a gente tem que saber programar.\n",
      "\n"
     ]
    }
   ],
   "source": [
    "arquivo_audio = open('media/original.mp3', mode='rb')\n",
    "prompt = 'Olá, seja bem-vindo à Asimov Academy. Meu nome é Rodrigo Soares Tadewald e ensino Python!'\n",
    "\n",
    "transcricao = client.audio.transcriptions.create(\n",
    "    model='whisper-1',\n",
    "    language='pt',\n",
    "    response_format='text',\n",
    "    file=arquivo_audio,\n",
    "    prompt=prompt,\n",
    ")\n",
    "\n",
    "print(transcricao)"
   ]
  },
  {
   "attachments": {},
   "cell_type": "markdown",
   "id": "8486459a",
   "metadata": {},
   "source": [
    "### Outros formatos de outputs"
   ]
  },
  {
   "cell_type": "code",
   "execution_count": 6,
   "id": "f70ec742",
   "metadata": {},
   "outputs": [
    {
     "name": "stdout",
     "output_type": "stream",
     "text": [
      "1\n",
      "00:00:01,000 --> 00:00:06,500\n",
      "Seja muito bem-vindo ou bem-vinda ao nosso curso completo de Python aqui da Asimov Academy.\n",
      "\n",
      "2\n",
      "00:00:06,500 --> 00:00:11,000\n",
      "Eu e minha equipe ficamos muito felizes que vocês tenham escolhido iniciar no mundo da programação,\n",
      "\n",
      "3\n",
      "00:00:11,000 --> 00:00:14,000\n",
      "especificamente com a linguagem Python, aqui com a gente.\n",
      "\n",
      "4\n",
      "00:00:14,000 --> 00:00:19,000\n",
      "Pode ter certeza que a gente colocou muito carinho e muita dedicação para construir esse material.\n",
      "\n",
      "5\n",
      "00:00:19,000 --> 00:00:24,000\n",
      "Além dos conhecimentos técnicos que a gente vai apresentar sobre a linguagem e programação em si,\n",
      "\n",
      "6\n",
      "00:00:24,000 --> 00:00:31,000\n",
      "eu também coloquei grande parte da minha experiência e minha vivência para compartilhar com vocês ao longo desse treinamento.\n",
      "\n",
      "7\n",
      "00:00:31,000 --> 00:00:36,000\n",
      "Para quem não me conhece ainda, meu nome é Rodrigo Soares Tadewald e eu não sou programador de origem.\n",
      "\n",
      "8\n",
      "00:00:36,000 --> 00:00:43,000\n",
      "Na verdade, eu me formei como engenheiro e utilizei a programação dentro da minha carreira no mercado financeiro como analista de dados.\n",
      "\n",
      "9\n",
      "00:00:43,000 --> 00:00:49,000\n",
      "E essa é a grande mágica da programação. Vocês não precisam utilizá-la única e exclusivamente para desenvolver software.\n",
      "\n",
      "10\n",
      "00:00:49,000 --> 00:00:54,000\n",
      "Na verdade, ela pode ser usada para o que vocês quiserem no dia a dia de vocês, muitas vezes como uma habilidade secundária.\n",
      "\n",
      "11\n",
      "00:00:54,000 --> 00:00:57,000\n",
      "Ela é muito mais ampla e muito mais poderosa do que isso.\n",
      "\n",
      "12\n",
      "00:00:57,000 --> 00:01:00,000\n",
      "Programação é, sem sombra de dúvidas, a habilidade do futuro.\n",
      "\n",
      "13\n",
      "00:01:00,000 --> 00:01:03,000\n",
      "Tem gente que já compara e diz que a programação é o novo inglês.\n",
      "\n",
      "14\n",
      "00:01:03,000 --> 00:01:07,000\n",
      "Ou seja, até anos atrás, era necessário que a gente tivesse inglês para poder entrar no mercado de trabalho.\n",
      "\n",
      "15\n",
      "00:01:07,000 --> 00:01:11,000\n",
      "Hoje, com certeza, além do inglês, a gente tem que saber programar.\n",
      "\n",
      "\n",
      "\n"
     ]
    }
   ],
   "source": [
    "arquivo_audio = open('media/original.mp3', mode='rb')\n",
    "prompt = 'Olá, seja bem-vindo à Asimov Academy. Meu nome é Rodrigo Soares Tadewald e ensino Python!'\n",
    "\n",
    "transcricao = client.audio.transcriptions.create(\n",
    "    model='whisper-1',\n",
    "    language='pt',\n",
    "    response_format='srt',\n",
    "    file=arquivo_audio,\n",
    "    prompt=prompt,\n",
    ")\n",
    "\n",
    "print(transcricao)"
   ]
  },
  {
   "cell_type": "code",
   "execution_count": null,
   "metadata": {},
   "outputs": [],
   "source": []
  }
 ],
 "metadata": {
  "kernelspec": {
   "display_name": "Python 3 (ipykernel)",
   "language": "python",
   "name": "python3"
  },
  "language_info": {
   "codemirror_mode": {
    "name": "ipython",
    "version": 3
   },
   "file_extension": ".py",
   "mimetype": "text/x-python",
   "name": "python",
   "nbconvert_exporter": "python",
   "pygments_lexer": "ipython3",
   "version": "3.11.4"
  }
 },
 "nbformat": 4,
 "nbformat_minor": 5
}
